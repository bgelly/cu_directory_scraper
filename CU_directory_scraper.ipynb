{
 "cells": [
  {
   "cell_type": "code",
   "execution_count": null,
   "metadata": {},
   "outputs": [],
   "source": [
    "from selenium import webdriver\n",
    "\n",
    "# pip install pandas in command line\n",
    "import pandas as pd\n",
    "\n",
    "# import packages to set wait time for page to load before running Selenium code\n",
    "from selenium.webdriver.support import expected_conditions as EC\n",
    "from selenium.webdriver.common.by import By\n",
    "from selenium.webdriver.support.ui import WebDriverWait\n",
    "import time \n",
    "from selenium.webdriver.common.keys import Keys\n",
    "from selenium.webdriver import ActionChains\n",
    "\n",
    "# packages to download images\n",
    "import urllib\n",
    "import urllib.request\n",
    "\n",
    "# regex\n",
    "import re\n",
    "\n",
    "# sorting\n",
    "import string"
   ]
  },
  {
   "cell_type": "code",
   "execution_count": null,
   "metadata": {},
   "outputs": [],
   "source": [
    "letters = string.ascii_uppercase\n",
    "df = pd.DataFrame(columns = ['name', 'uni', 'title', 'department'])\n",
    "\n",
    "username = input(\"Username:\")\n",
    "password = input(\"Password:\")\n",
    "\n",
    "driver = webdriver.Chrome()\n",
    "\n",
    "for i in letters:\n",
    "    driver.get(\"https://directory.columbia.edu/people/browse/students;jsessionid=AE18155A2A30B9D6D4AEE0653247E6A4?filter.initialLetter=\" + str(i))\n",
    "\n",
    "    try:\n",
    "        driver.find_element_by_id(\"username\").send_keys(username)\n",
    "        driver.find_element_by_id(\"password\").send_keys(password)\n",
    "        driver.find_element_by_xpath('//*[@id=\"fm1\"]/div[3]/input[4]').send_keys(Keys.RETURN)\n",
    "\n",
    "    except:\n",
    "        pass\n",
    "\n",
    "    current_url = driver.current_url\n",
    "    ending = \"filter.initialLetter=\" + str(i)\n",
    "    print(ending)\n",
    "    print(len(df.name))\n",
    "    \n",
    "    try:\n",
    "        for i in range(0,150):\n",
    "            new_ending = 'page=' + str(i)\n",
    "\n",
    "            new_url = re.sub(ending, new_ending, current_url)\n",
    "            #print(new_url)\n",
    "\n",
    "            driver.get(new_url)\n",
    "\n",
    "            for i in range(2,42):\n",
    "                s = []\n",
    "                try:\n",
    "                    name = driver.find_element_by_xpath('/html/body/div/a/form/table/tbody/tr[5]/td[2]/div[1]/table/tbody/tr[' + str(i) + ']/td[1]/a')\n",
    "                    s.append(name.text)\n",
    "                \n",
    "                    try:\n",
    "                        uni = name.get_attribute('href')\n",
    "                        s.append(uni)\n",
    "                        \n",
    "                        try:\n",
    "                            department = driver.find_element_by_xpath('/html/body/div/a/form/table/tbody/tr[5]/td[2]/div[1]/table/tbody/tr[' + str(i) + ']/td[2]/div[2]')\n",
    "                            s.append(department.text)\n",
    "\n",
    "                            try:\n",
    "                                title = driver.find_element_by_xpath('/html/body/div/a/form/table/tbody/tr[5]/td[2]/div[1]/table/tbody/tr[' + str(i) + ']/td[2]/div[1]')\n",
    "                                s.append(title.text)\n",
    "                            \n",
    "                            except:\n",
    "                                s.append(\"None\")\n",
    "                        except:\n",
    "                            pass\n",
    "                    except:\n",
    "                        pass\n",
    "                except:\n",
    "                    pass\n",
    "                \n",
    "                df.loc[len(df)] = s\n",
    "    except:\n",
    "        pass\n",
    "\n",
    "driver.close()"
   ]
  },
  {
   "cell_type": "code",
   "execution_count": null,
   "metadata": {},
   "outputs": [],
   "source": [
    "# clean uni column\n",
    "df['uni'] = df['uni'].str[-5:]"
   ]
  },
  {
   "cell_type": "code",
   "execution_count": null,
   "metadata": {},
   "outputs": [],
   "source": [
    "# drop title column\n",
    "df.drop('title', axis =1, inplace=True)"
   ]
  },
  {
   "cell_type": "code",
   "execution_count": null,
   "metadata": {},
   "outputs": [],
   "source": [
    "# clean department column\n",
    "df['department'] = df['department'].str[7:]"
   ]
  },
  {
   "cell_type": "code",
   "execution_count": null,
   "metadata": {},
   "outputs": [],
   "source": [
    "# save full directory\n",
    "df.to_csv('CU_directory.csv')"
   ]
  },
  {
   "cell_type": "code",
   "execution_count": null,
   "metadata": {},
   "outputs": [],
   "source": [
    "# only CBS\n",
    "df_CBS = df[df['department'] == \"Student, GRADUATE SCHOOL OF BUSINESS\"]"
   ]
  },
  {
   "cell_type": "code",
   "execution_count": null,
   "metadata": {},
   "outputs": [],
   "source": [
    "# reset index\n",
    "df_CBS.reset_index(inplace= True)\n",
    "df_CBS.drop('index', inplace = True, axis =1)"
   ]
  },
  {
   "cell_type": "code",
   "execution_count": null,
   "metadata": {},
   "outputs": [],
   "source": [
    "# drop department\n",
    "df_CBS.drop('department', inplace = True, axis =1)"
   ]
  },
  {
   "cell_type": "code",
   "execution_count": null,
   "metadata": {},
   "outputs": [],
   "source": [
    "# save CBS directory\n",
    "df.to_csv('CBS_directory.csv')"
   ]
  }
 ],
 "metadata": {
  "kernelspec": {
   "display_name": "Python 3",
   "language": "python",
   "name": "python3"
  },
  "language_info": {
   "codemirror_mode": {
    "name": "ipython",
    "version": 3
   },
   "file_extension": ".py",
   "mimetype": "text/x-python",
   "name": "python",
   "nbconvert_exporter": "python",
   "pygments_lexer": "ipython3",
   "version": "3.7.3"
  }
 },
 "nbformat": 4,
 "nbformat_minor": 2
}
